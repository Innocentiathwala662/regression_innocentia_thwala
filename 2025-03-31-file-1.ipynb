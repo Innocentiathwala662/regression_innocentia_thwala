{
 "cells": [
  {
   "cell_type": "code",
   "execution_count": 0,
   "id": "4eb65d",
   "metadata": {
    "collapsed": false
   },
   "outputs": [
   ],
   "source": [
   ]
  },
  {
   "cell_type": "code",
   "execution_count": 3,
   "id": "d6a0dd",
   "metadata": {
    "collapsed": false
   },
   "outputs": [
   ],
   "source": [
    "def test_field_dataframe_columns():\n",
    "    # Test for the expected columns in the DataFrame\n",
    "    expected_columns = [\n",
    "        'Field_ID', 'Elevation', 'Latitude', 'Longitude', 'Location',\n",
    "        'Slope', 'Rainfall', 'Min_temperature_C', 'Max_temperature_C',\n",
    "        'Ave_temps', 'Soil_fertility', 'Soil_type', 'pH', 'Pollution_level',\n",
    "        'Plot_size', 'Annual_yield', 'Crop_type', 'Standard_yield'\n",
    "    ]\n",
    "    assert all(column in field_df.columns for column in expected_columns), \"Field DataFrame does not contain all expected columns.\""
   ]
  },
  {
   "cell_type": "code",
   "execution_count": 0,
   "id": "bc34f6",
   "metadata": {
    "collapsed": false
   },
   "outputs": [
   ],
   "source": [
   ]
  },
  {
   "cell_type": "code",
   "execution_count": 4,
   "id": "133871",
   "metadata": {
    "collapsed": false
   },
   "outputs": [
   ],
   "source": [
    "def test_no_unexpected_columns():\n",
    "    # Test for any unexpected columns in the DataFrame\n",
    "    expected_columns = [\n",
    "        'Field_ID', 'Elevation', 'Latitude', 'Longitude', 'Location',\n",
    "        'Slope', 'Rainfall', 'Min_temperature_C', 'Max_temperature_C',\n",
    "        'Ave_temps', 'Soil_fertility', 'Soil_type', 'pH', 'Pollution_level',\n",
    "        'Plot_size', 'Annual_yield', 'Crop_type', 'Standard_yield'\n",
    "    ]\n",
    "    unexpected_columns = [column for column in field_df.columns if column not in expected_columns]\n",
    "    assert len(unexpected_columns) == 0, f\"Field DataFrame contains unexpected columns: {unexpected_columns}\""
   ]
  },
  {
   "cell_type": "code",
   "execution_count": 0,
   "id": "88b91c",
   "metadata": {
    "collapsed": false
   },
   "outputs": [
   ],
   "source": [
   ]
  },
  {
   "cell_type": "code",
   "execution_count": 5,
   "id": "20f985",
   "metadata": {
    "collapsed": false
   },
   "outputs": [
   ],
   "source": [
    "def test_no_missing_values():\n",
    "    # Test that there are no missing values in critical columns\n",
    "    critical_columns = ['Field_ID', 'Elevation', 'Latitude', 'Longitude', 'Crop_type']\n",
    "    assert not field_df[critical_columns].isnull().any().any(), \"There are missing values in critical columns.\""
   ]
  },
  {
   "cell_type": "code",
   "execution_count": 0,
   "id": "eef5dc",
   "metadata": {
    "collapsed": false
   },
   "outputs": [
   ],
   "source": [
   ]
  },
  {
   "cell_type": "code",
   "execution_count": 6,
   "id": "349147",
   "metadata": {
    "collapsed": false
   },
   "outputs": [
   ],
   "source": [
    "def test_numeric_columns_ranges():\n",
    "    # Define reasonable ranges for numeric columns\n",
    "    assert field_df['Elevation'].between(0, 8848).all(), \"Elevation values are out of range.\"  # Example: Elevation should be between 0 and 8848 meters\n",
    "    assert field_df['Rainfall'].between(0, 5000).all(), \"Rainfall values are out of range.\"  # Example: Rainfall should be between 0 and 5000 mm\n",
    "    assert field_df['Min_temperature_C'].between(-50, 50).all(), \"Min temperature values are out of range.\"  # Example: Min temperature should be between -50 and 50°C\n",
    "    assert field_df['Max_temperature_C'].between(-50, 60).all(), \"Max temperature values are out of range.\"  # Example: Max temperature should be between -50 and 60°C"
   ]
  },
  {
   "cell_type": "code",
   "execution_count": 0,
   "id": "d531b7",
   "metadata": {
    "collapsed": false
   },
   "outputs": [
   ],
   "source": [
   ]
  },
  {
   "cell_type": "code",
   "execution_count": 7,
   "id": "cdf46a",
   "metadata": {
    "collapsed": false
   },
   "outputs": [
   ],
   "source": [
    "def test_unique_field_ids():\n",
    "    # Test that Field_IDs are unique\n",
    "    assert field_df['Field_ID'].is_unique, \"Field_IDs are not unique.\""
   ]
  }
 ],
 "metadata": {
  "kernelspec": {
   "argv": [
    "/usr/bin/python3",
    "-m",
    "ipykernel",
    "--HistoryManager.enabled=False",
    "--matplotlib=inline",
    "-c",
    "%config InlineBackend.figure_formats = set(['retina'])\nimport matplotlib; matplotlib.rcParams['figure.figsize'] = (12, 7)",
    "-f",
    "{connection_file}"
   ],
   "display_name": "Python 3 (system-wide)",
   "env": {
   },
   "language": "python",
   "metadata": {
    "cocalc": {
     "description": "Python 3 programming language",
     "priority": 100,
     "url": "https://www.python.org/"
    }
   },
   "name": "python3",
   "resource_dir": "/ext/jupyter/kernels/python3"
  },
  "language_info": {
   "codemirror_mode": {
    "name": "ipython",
    "version": 3
   },
   "file_extension": ".py",
   "mimetype": "text/x-python",
   "name": "python",
   "nbconvert_exporter": "python",
   "pygments_lexer": "ipython3",
   "version": "3.10.12"
  }
 },
 "nbformat": 4,
 "nbformat_minor": 4
}